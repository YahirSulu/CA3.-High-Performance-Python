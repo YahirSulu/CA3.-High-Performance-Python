{
 "cells": [
  {
   "cell_type": "markdown",
   "metadata": {},
   "source": [
    "# **CA4. Multiprocessing**\n",
    "**Sulu Chi Yahir Benjamin\\\n",
    "Data Engineering\\\n",
    "Universidad Politécnica de Yucatán\\\n",
    "Ucú, Yucatán, México\\\n",
    "2109145@upy.edu.mx**\n",
    "\n",
    "\n",
    "# Part 2. List and Tuples"
   ]
  },
  {
   "cell_type": "markdown",
   "metadata": {},
   "source": [
    "\n",
    "8. In some cases, it is necessary to efficiently perform insertion or removal of elements\n",
    "both at the beginning and at the end of the collection. Measure the time for the\n",
    "following operations with N = 10 000, 20 000 y 30 000 elements:\\\n",
    "    a. Delete last element of a list via pop()\\\n",
    "    b. Delete first element of a list via pop(0)\\\n",
    "    c. Append 1 at the end of the list.\\\n",
    "    d. Insert 1 at the beginning of the list insert(0, 1)\\\n",
    "Make a table with your results. It should looks like table on Chapter 2: Pure Python\n",
    "Optimization (pp. 38) from the book G. Lenaro (2017). Python high Performance.\n",
    "Second Edition. UK: Packt Publishing Ltd."
   ]
  },
  {
   "cell_type": "code",
   "execution_count": 1,
   "metadata": {},
   "outputs": [
    {
     "name": "stdout",
     "output_type": "stream",
     "text": [
      "| N       | Delete last (µs) | Delete first (µs) | Append (µs) | Insert at start (µs) |\n",
      "|---------|-------------------|--------------------|-------------|-----------------------|\n",
      "| 10000   | 54.90             | 39079.10           | 160.60      | 5199.90               |\n",
      "| 20000   | 150.10            | 80054.30           | 211.60      | 10981.50              |\n",
      "| 30000   | 78.00             | 92714.10           | 131.00      | 11921.00              |\n"
     ]
    }
   ],
   "source": [
    "import timeit\n",
    "\n",
    "# Number of elements in each test case\n",
    "Ns = [10000, 20000, 30000]\n",
    "\n",
    "# Operations to be measured\n",
    "operations = {\n",
    "    \"Delete last element (pop)\": \"lst.pop()\",\n",
    "    \"Delete first element (pop(0))\": \"lst.pop(0)\",\n",
    "    \"Append 1 at the end\": \"lst.append(1)\",\n",
    "    \"Insert 1 at the beginning\": \"lst.insert(0, 1)\"\n",
    "}\n",
    "\n",
    "# Initialize a dictionary to hold the results for each N\n",
    "results = {N: {} for N in Ns}\n",
    "\n",
    "# Measure time for each operation across different list sizes\n",
    "for N in Ns:\n",
    "    for description, operation in operations.items():\n",
    "        setup_code = f\"lst = list(range({N}))\"\n",
    "        # Measure the time taken to execute the operation 1000 times\n",
    "        time_taken = timeit.timeit(stmt=operation, setup=setup_code, number=1000)\n",
    "        # Store the time in microseconds\n",
    "        results[N][description] = time_taken * 1e6  # convert seconds to microseconds\n",
    "\n",
    "# Print results in a tabular format\n",
    "print(\"| N       | Delete last (µs) | Delete first (µs) | Append (µs) | Insert at start (µs) |\")\n",
    "print(\"|---------|-------------------|--------------------|-------------|-----------------------|\")\n",
    "for N in Ns:\n",
    "    print(f\"| {N:<7} | {results[N]['Delete last element (pop)']:<17.2f} | {results[N]['Delete first element (pop(0))']:<18.2f} | {results[N]['Append 1 at the end']:<11.2f} | {results[N]['Insert 1 at the beginning']:<21.2f} |\")\n"
   ]
  },
  {
   "cell_type": "markdown",
   "metadata": {},
   "source": [
    "9. Python provides a data structure with interesting properties in the collection.deque\n",
    "class. The word deque stands for double-ended queue because this data structure\n",
    "is designed to efficiently put and remove elements at the beginning and at the end\n",
    "of the collection. Evaluate the following methods with N = 10 000, 20 000 and 30\n",
    "000 elements:\\\n",
    "a. deque.pop()\\\n",
    "b. deque.popleft()\\\n",
    "c. deque.append(1)\\\n",
    "d. deque.appendleft(1)\\\n",
    "Make a table with your results. It should looks like table on pp. 39 on the same book\n",
    "as previous task. "
   ]
  },
  {
   "cell_type": "code",
   "execution_count": 4,
   "metadata": {},
   "outputs": [
    {
     "name": "stdout",
     "output_type": "stream",
     "text": [
      "| N       | pop() (µs) | popleft() (µs) | append(1) (µs) | appendleft(1) (µs) |\n",
      "|---------|------------|-----------------|-----------------|---------------------|\n",
      "| 10000   | 74.20       | 69.20           | 48.00           | 41.50               |\n",
      "| 20000   | 33.80       | 56.20           | 36.90           | 33.10               |\n",
      "| 30000   | 54.30       | 44.20           | 56.00           | 208.60              |\n"
     ]
    }
   ],
   "source": [
    "import timeit\n",
    "from collections import deque\n",
    "\n",
    "# Number of elements in each test case\n",
    "Ns = [10000, 20000, 30000]\n",
    "\n",
    "# Operations to be measured\n",
    "operations = {\n",
    "    \"pop()\": \"dq.pop()\",\n",
    "    \"popleft()\": \"dq.popleft()\",\n",
    "    \"append(1)\": \"dq.append(1)\",\n",
    "    \"appendleft(1)\": \"dq.appendleft(1)\"\n",
    "}\n",
    "\n",
    "# Initialize a dictionary to hold the results for each N\n",
    "results = {N: {} for N in Ns}\n",
    "\n",
    "# Measure time for each operation across different deque sizes\n",
    "for N in Ns:\n",
    "    for description, operation in operations.items():\n",
    "        setup_code = f\"from collections import deque; dq = deque(range({N}))\"\n",
    "        # Measure the time taken to execute the operation 1000 times\n",
    "        time_taken = timeit.timeit(stmt=operation, setup=setup_code, number=1000)\n",
    "        # Store the time in microseconds\n",
    "        results[N][description] = time_taken * 1e6  # convert seconds to microseconds\n",
    "\n",
    "# Print results in a tabular format\n",
    "print(\"| N       | pop() (µs) | popleft() (µs) | append(1) (µs) | appendleft(1) (µs) |\")\n",
    "print(\"|---------|------------|-----------------|-----------------|---------------------|\")\n",
    "for N in Ns:\n",
    "    print(f\"| {N:<7} | {results[N]['pop()']:<11.2f} | {results[N]['popleft()']:<15.2f} | {results[N]['append(1)']:<15.2f} | {results[N]['appendleft(1)']:<19.2f} |\")\n"
   ]
  },
  {
   "cell_type": "markdown",
   "metadata": {},
   "source": [
    "10. The efficiency gained by the appendleft and popleft comes at a cost: accesing an\n",
    "element in the middle of a deque is a O(N) operation. Evaluate the time for the next\n",
    "operations with with N = 10 000, 20 000 and 30 000 elements:\\\n",
    "a. deque[0]\\\n",
    "b. deque[N-1]\\\n",
    "c. deque[int(N/2)]\\\n",
    "**Make a table with your results. It should looks like table on pp. 39 on the same book\n",
    "as previous task.**"
   ]
  },
  {
   "cell_type": "code",
   "execution_count": 6,
   "metadata": {},
   "outputs": [
    {
     "name": "stdout",
     "output_type": "stream",
     "text": [
      "| N       | deque[0] (µs) | deque[N-1] (µs) | deque[int(N/2)] (µs) |\n",
      "|---------|----------------|------------------|------------------------|\n",
      "| 10000   | 40.40          | 48.40            | 334.50                 |\n",
      "| 20000   | 33.10          | 387.30           | 553.70                 |\n",
      "| 30000   | 70.40          | 65.50            | 650.40                 |\n"
     ]
    }
   ],
   "source": [
    "import timeit\n",
    "from collections import deque\n",
    "\n",
    "# Number of elements in each test case\n",
    "Ns = [10000, 20000, 30000]\n",
    "\n",
    "# Operations to be measured\n",
    "operations = {\n",
    "    \"deque[0]\": \"dq[0]\",\n",
    "    \"deque[N-1]\": \"dq[-1]\",\n",
    "    \"deque[int(N/2)]\": \"dq[int(N/2)]\"\n",
    "}\n",
    "\n",
    "# Initialize a dictionary to hold the results for each N\n",
    "results = {N: {} for N in Ns}\n",
    "\n",
    "# Measure time for each operation across different deque sizes\n",
    "for N in Ns:\n",
    "    for description, operation in operations.items():\n",
    "        setup_code = f\"from collections import deque; dq = deque(range({N})); N = {N}\"\n",
    "        # Measure the time taken to execute the operation 1000 times\n",
    "        time_taken = timeit.timeit(stmt=operation, setup=setup_code, number=1000)\n",
    "        # Store the time in microseconds\n",
    "        results[N][description] = time_taken * 1e6  # convert seconds to microseconds\n",
    "\n",
    "# Print results in a tabular format\n",
    "print(\"| N       | deque[0] (µs) | deque[N-1] (µs) | deque[int(N/2)] (µs) |\")\n",
    "print(\"|---------|----------------|------------------|------------------------|\")\n",
    "for N in Ns:\n",
    "    print(f\"| {N:<7} | {results[N]['deque[0]']:<14.2f} | {results[N]['deque[N-1]']:<16.2f} | {results[N]['deque[int(N/2)]']:<22.2f} |\")\n"
   ]
  },
  {
   "cell_type": "markdown",
   "metadata": {},
   "source": [
    "11. Explain what is Overallocation in lists. "
   ]
  },
  {
   "cell_type": "markdown",
   "metadata": {},
   "source": [
    "Python lists use overallocation to optimize appending elements by allocating more memory than immediately required. This reduces frequent memory reallocations as the list grows, enhancing performance. However, it may result in higher memory usage than strictly needed, balancing memory efficiency with faster append operations."
   ]
  }
 ],
 "metadata": {
  "kernelspec": {
   "display_name": "Python 3",
   "language": "python",
   "name": "python3"
  },
  "language_info": {
   "codemirror_mode": {
    "name": "ipython",
    "version": 3
   },
   "file_extension": ".py",
   "mimetype": "text/x-python",
   "name": "python",
   "nbconvert_exporter": "python",
   "pygments_lexer": "ipython3",
   "version": "3.10.11"
  }
 },
 "nbformat": 4,
 "nbformat_minor": 2
}
